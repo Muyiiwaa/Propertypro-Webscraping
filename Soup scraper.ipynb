{
 "cells": [
  {
   "cell_type": "code",
   "execution_count": 1,
   "id": "9b238d63",
   "metadata": {},
   "outputs": [],
   "source": [
    "from bs4 import BeautifulSoup\n",
    "import requests\n",
    "import csv\n",
    "import pandas as pd"
   ]
  },
  {
   "cell_type": "code",
   "execution_count": 2,
   "id": "b99fe1ff",
   "metadata": {},
   "outputs": [],
   "source": [
    "title = []\n",
    "bedroom = []\n",
    "bathroom = []\n",
    "toilet = []\n",
    "prices = []\n",
    "conditions = []\n",
    "street = []\n",
    "ad_type  = []"
   ]
  },
  {
   "cell_type": "code",
   "execution_count": 3,
   "id": "07b870d6",
   "metadata": {},
   "outputs": [],
   "source": [
    "pages = list(range(1,320))\n",
    "for page in pages:\n",
    "    req = requests.get('https://www.propertypro.ng/property-for-rent?search=Abuja&auto=&type=&bedroom=&min_price=&max_price=&page={}'.format(page)).text\n",
    "    #content = req.content #Get the content\n",
    "    soup = BeautifulSoup(req, 'html.parser')\n",
    "    \n",
    "    \n",
    "    desc = soup.find_all('h4', class_ = 'listings-property-title')\n",
    "    for i in range (len(desc)): \n",
    "        title.append(desc[i].text)\n",
    "        len(title)\n",
    "    \n",
    "    commonclass = soup.find_all('span', class_ = False)\n",
    "    #create empty lists for the features\n",
    "    for i in range(0, len(commonclass)):\n",
    "        p = commonclass[i].text #Extracting text from the tags\n",
    "        if('beds' in p):\n",
    "            bedroom.append(p)\n",
    "        elif('baths'in p):\n",
    "            bathroom.append(p)\n",
    "        elif('Toilets' in p):\n",
    "            toilet.append(p)\n",
    "            \n",
    "    price = soup.find_all('h3', class_ = 'listings-price')\n",
    "    # Extracting proce of each laptop from the website\n",
    "    for i in range(len(price)):\n",
    "        prices.append(price[i].text)\n",
    "        len(prices)\n",
    "        \n",
    "    condition = soup.find_all('div', class_ = 'furnished-btn')\n",
    "    # Extracting proce of each laptop from the website\n",
    "    for i in range(len(condition)):\n",
    "        conditions.append(condition[i].text)\n",
    "        len(conditions) \n",
    "        \n",
    "    commonclass2 = soup.find_all('h4', class_ = False)\n",
    "    #create empty lists for the features\n",
    "    for i in range(0, len(commonclass2)):\n",
    "        k = commonclass2[i].text #Extracting text from the tags\n",
    "        if('Abuja' in k):\n",
    "            street.append(k)\n",
    "        elif('Premium'in k or 'Sponsored' in k):\n",
    "            ad_type.append(k)"
   ]
  },
  {
   "cell_type": "code",
   "execution_count": 4,
   "id": "85ed56b6",
   "metadata": {},
   "outputs": [
    {
     "name": "stdout",
     "output_type": "stream",
     "text": [
      "6380\n",
      "7018\n",
      "7018\n",
      "7018\n",
      "6380\n",
      "7018\n",
      "6414\n",
      "1107\n"
     ]
    }
   ],
   "source": [
    "print(len(title))\n",
    "print(len(bedroom))\n",
    "print(len(bathroom))\n",
    "print(len(toilet))\n",
    "print(len(prices))\n",
    "print(len(conditions))\n",
    "print(len(street))\n",
    "print(len(ad_type))"
   ]
  },
  {
   "cell_type": "code",
   "execution_count": 6,
   "id": "4cd0e4ab",
   "metadata": {},
   "outputs": [
    {
     "data": {
      "text/html": [
       "<div>\n",
       "<style scoped>\n",
       "    .dataframe tbody tr th:only-of-type {\n",
       "        vertical-align: middle;\n",
       "    }\n",
       "\n",
       "    .dataframe tbody tr th {\n",
       "        vertical-align: top;\n",
       "    }\n",
       "\n",
       "    .dataframe thead th {\n",
       "        text-align: right;\n",
       "    }\n",
       "</style>\n",
       "<table border=\"1\" class=\"dataframe\">\n",
       "  <thead>\n",
       "    <tr style=\"text-align: right;\">\n",
       "      <th></th>\n",
       "      <th>Title</th>\n",
       "      <th>Street</th>\n",
       "      <th>Condition</th>\n",
       "      <th>Bedroom</th>\n",
       "      <th>Bathroom</th>\n",
       "      <th>Toilet</th>\n",
       "      <th>Price</th>\n",
       "    </tr>\n",
       "  </thead>\n",
       "  <tbody>\n",
       "    <tr>\n",
       "      <th>0</th>\n",
       "      <td>3 BEDROOM HOUSE FOR RENT</td>\n",
       "      <td>Behind Grand Cubana Jabi Abuja</td>\n",
       "      <td>\\nServiced\\nNewly Built\\n</td>\n",
       "      <td>2 beds</td>\n",
       "      <td>2 baths</td>\n",
       "      <td>3 Toilets</td>\n",
       "      <td>₦ 3,000,000/year</td>\n",
       "    </tr>\n",
       "    <tr>\n",
       "      <th>1</th>\n",
       "      <td>2 BEDROOM FLAT / APARTMENT FOR RENT</td>\n",
       "      <td>After Saplast Bwari Abuja</td>\n",
       "      <td>\\n</td>\n",
       "      <td>3 beds</td>\n",
       "      <td>4 baths</td>\n",
       "      <td>4 Toilets</td>\n",
       "      <td>₦ 1,500,000/year</td>\n",
       "    </tr>\n",
       "    <tr>\n",
       "      <th>2</th>\n",
       "      <td>2 BEDROOM FLAT / APARTMENT FOR RENT</td>\n",
       "      <td>Military Pension Board Kubwa Abuja</td>\n",
       "      <td>\\n</td>\n",
       "      <td>2 beds</td>\n",
       "      <td>3 baths</td>\n",
       "      <td>3 Toilets</td>\n",
       "      <td>₦ 1,000,000/year</td>\n",
       "    </tr>\n",
       "    <tr>\n",
       "      <th>3</th>\n",
       "      <td>1 BEDROOM FLAT / APARTMENT FOR RENT</td>\n",
       "      <td>Lavista Court Estate Galadinmawa Abuja</td>\n",
       "      <td>\\n</td>\n",
       "      <td>2 beds</td>\n",
       "      <td>3 baths</td>\n",
       "      <td>3 Toilets</td>\n",
       "      <td>₦ 1,000,000/year</td>\n",
       "    </tr>\n",
       "    <tr>\n",
       "      <th>4</th>\n",
       "      <td>2 BEDROOM FLAT / APARTMENT FOR RENT</td>\n",
       "      <td>Jabi Abuja</td>\n",
       "      <td>\\nServiced\\n</td>\n",
       "      <td>1 beds</td>\n",
       "      <td>1 baths</td>\n",
       "      <td>1 Toilets</td>\n",
       "      <td>₦ 8,000,000/year</td>\n",
       "    </tr>\n",
       "  </tbody>\n",
       "</table>\n",
       "</div>"
      ],
      "text/plain": [
       "                                 Title  \\\n",
       "0             3 BEDROOM HOUSE FOR RENT   \n",
       "1  2 BEDROOM FLAT / APARTMENT FOR RENT   \n",
       "2  2 BEDROOM FLAT / APARTMENT FOR RENT   \n",
       "3  1 BEDROOM FLAT / APARTMENT FOR RENT   \n",
       "4  2 BEDROOM FLAT / APARTMENT FOR RENT   \n",
       "\n",
       "                                   Street                  Condition Bedroom  \\\n",
       "0          Behind Grand Cubana Jabi Abuja  \\nServiced\\nNewly Built\\n  2 beds   \n",
       "1               After Saplast Bwari Abuja                         \\n  3 beds   \n",
       "2      Military Pension Board Kubwa Abuja                         \\n  2 beds   \n",
       "3  Lavista Court Estate Galadinmawa Abuja                         \\n  2 beds   \n",
       "4                              Jabi Abuja               \\nServiced\\n  1 beds   \n",
       "\n",
       "  Bathroom     Toilet               Price  \n",
       "0  2 baths  3 Toilets   ₦ 3,000,000/year   \n",
       "1  4 baths  4 Toilets   ₦ 1,500,000/year   \n",
       "2  3 baths  3 Toilets   ₦ 1,000,000/year   \n",
       "3  3 baths  3 Toilets   ₦ 1,000,000/year   \n",
       "4  1 baths  1 Toilets   ₦ 8,000,000/year   "
      ]
     },
     "execution_count": 6,
     "metadata": {},
     "output_type": "execute_result"
    }
   ],
   "source": [
    "df = {'Title':title[0:6380],'Street':street[0:6380],'Condition':conditions[0:6380],\n",
    "      'Bedroom':bedroom[0:6380],'Bathroom':bathroom[0:6380],'Toilet':toilet[0:6380],\n",
    "      'Price':prices[0:6380]}\n",
    "dataset = pd.DataFrame(df)\n",
    "dataset.head()"
   ]
  },
  {
   "cell_type": "code",
   "execution_count": 7,
   "id": "e7369ae7",
   "metadata": {},
   "outputs": [
    {
     "data": {
      "text/plain": [
       "(6380, 7)"
      ]
     },
     "execution_count": 7,
     "metadata": {},
     "output_type": "execute_result"
    }
   ],
   "source": [
    "dataset.shape"
   ]
  },
  {
   "cell_type": "code",
   "execution_count": 8,
   "id": "2002d9c9",
   "metadata": {},
   "outputs": [],
   "source": [
    "dataset.to_csv('Abuja_houses.csv')"
   ]
  },
  {
   "cell_type": "code",
   "execution_count": null,
   "id": "ad5fe900",
   "metadata": {},
   "outputs": [],
   "source": []
  }
 ],
 "metadata": {
  "kernelspec": {
   "display_name": "Python 3 (ipykernel)",
   "language": "python",
   "name": "python3"
  },
  "language_info": {
   "codemirror_mode": {
    "name": "ipython",
    "version": 3
   },
   "file_extension": ".py",
   "mimetype": "text/x-python",
   "name": "python",
   "nbconvert_exporter": "python",
   "pygments_lexer": "ipython3",
   "version": "3.9.7"
  }
 },
 "nbformat": 4,
 "nbformat_minor": 5
}
